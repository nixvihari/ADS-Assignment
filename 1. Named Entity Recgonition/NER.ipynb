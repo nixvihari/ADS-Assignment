{
 "cells": [
  {
   "cell_type": "markdown",
   "id": "f5fe676a-f6f5-4237-91cd-68761e8a9bba",
   "metadata": {},
   "source": [
    "### Named Entity Recognition\n",
    "\n",
    "- A Named entity is any that is a noun, i.e an instance of a person, place or a thing.\n",
    "\n",
    "Named Entity Recognition (NER) in Natural Language Processing (NLP) is a technique used to classify named entities into predefined categories such as person names, organizations, locations, medical codes, time expressions, quantities, monetary values, and more. \n",
    "\n",
    "NER can be seen as a multiclass classification problem where we try to identify the class of the entity and assign the highest probable class to which it seems to belong. These classes are predefined categories which represent class/group of instances in the real world.\n",
    "\n",
    "Ex: \n",
    "- Places\n",
    "    - Countries\n",
    "    - States\n",
    "- Institution\n",
    "    - School\n",
    "    - College\n",
    "    - Offices\n",
    "- Persons\n",
    "\n",
    "- NER serves as a bridge between unstructured text and structured data, by being able to provide context for the text.\n",
    "- NER facilitating tasks like data analysis, information retrieval, and knowledge graph construction."
   ]
  },
  {
   "cell_type": "code",
   "execution_count": 1,
   "id": "afeb1df2-ebea-4692-9ece-49ae1ea8df2d",
   "metadata": {},
   "outputs": [],
   "source": [
    "input_txt = \"\"\n",
    "\n",
    "with open('./input.txt','r') as f:\n",
    "    input_txt = f.read()"
   ]
  },
  {
   "cell_type": "code",
   "execution_count": 2,
   "id": "d747a3a8-7f3e-43d8-b0e3-2e37b5a8a512",
   "metadata": {},
   "outputs": [
    {
     "data": {
      "text/plain": [
       "266"
      ]
     },
     "execution_count": 2,
     "metadata": {},
     "output_type": "execute_result"
    }
   ],
   "source": [
    "len(input_txt.split(' '))"
   ]
  },
  {
   "cell_type": "code",
   "execution_count": 3,
   "id": "e59c9dcc-9e19-4ffb-83da-b2387c90a74a",
   "metadata": {},
   "outputs": [],
   "source": [
    "import spacy\n",
    "from collections import defaultdict\n",
    "\n",
    "nlp = spacy.load(\"en_core_web_sm\")\n",
    "doc = nlp(input_txt)\n",
    "categories = defaultdict(list)\n",
    "\n",
    "for ent in doc.ents:\n",
    "    categories[ent.label_].append(ent.text)\n",
    "\n",
    "with open('output.txt','w') as out:\n",
    "    for k,v in categories.items():\n",
    "        out.write(k+'\\n')\n",
    "        out.write('\\n')\n",
    "        for token in v:\n",
    "            out.write(token + '\\n')\n",
    "        out.write('-------------------------------------\\n')\n",
    "    out.write('''\n",
    "    \n",
    "------------------------------------- \n",
    "Named Entities Description:\n",
    "\n",
    "PERSON:      People, including fictional.\n",
    "NORP:        Nationalities or religious or political groups.\n",
    "FAC:         Buildings, airports, highways, bridges, etc.\n",
    "ORG:         Companies, agencies, institutions, etc.\n",
    "GPE:         Countries, cities, states (GeoPolitical Entities)\n",
    "LOC:         Non-GPE locations, mountain ranges, bodies of water.\n",
    "PRODUCT:     Objects, vehicles, foods, etc. (Not services.)\n",
    "EVENT:       Named hurricanes, battles, wars, sports events, etc.\n",
    "WORK_OF_ART: Titles of books, songs, etc.\n",
    "LAW:         Named documents made into laws.\n",
    "LANGUAGE:    Any named language.\n",
    "DATE:        Absolute or relative dates or periods.\n",
    "TIME:        Times smaller than a day.\n",
    "PERCENT:     Percentage, including ”%“.\n",
    "MONEY:       Monetary values, including unit.\n",
    "QUANTITY:    Measurements, as of weight or distance.\n",
    "ORDINAL:     “first”, “second”, etc.\n",
    "CARDINAL:    Numerals that do not fall under another type.\n",
    "    ''')"
   ]
  }
 ],
 "metadata": {
  "kernelspec": {
   "display_name": "Python 3 (ipykernel)",
   "language": "python",
   "name": "python3"
  },
  "language_info": {
   "codemirror_mode": {
    "name": "ipython",
    "version": 3
   },
   "file_extension": ".py",
   "mimetype": "text/x-python",
   "name": "python",
   "nbconvert_exporter": "python",
   "pygments_lexer": "ipython3",
   "version": "3.11.7"
  }
 },
 "nbformat": 4,
 "nbformat_minor": 5
}
